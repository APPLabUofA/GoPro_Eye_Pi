{
 "cells": [
  {
   "cell_type": "code",
   "execution_count": null,
   "metadata": {},
   "outputs": [],
   "source": [
    "# Adapted from pycharm IDE - running python 3.6 - some expected conversion errors\n",
    "\n",
    "import numpy as np\n",
    "import cv2\n",
    "import time\n"
   ]
  },
  {
   "cell_type": "code",
   "execution_count": null,
   "metadata": {},
   "outputs": [],
   "source": [
    "# Histogram equalization parameters\n",
    "\n",
    "def equalizeHistColor(frame):\n",
    "    # equalize the histogram of color image\n",
    "    img = cv2.cvtColor(frame, cv2.COLOR_RGB2HSV)  # convert to HSV\n",
    "    img[:, :, 2] = cv2.equalizeHist(img[:, :, 2])  # equalize the histogram of the V channel\n",
    "    return cv2.cvtColor(img, cv2.COLOR_HSV2RGB)  # convert the HSV image back to RGB format\n"
   ]
  },
  {
   "cell_type": "code",
   "execution_count": null,
   "metadata": {},
   "outputs": [],
   "source": [
    "# Specify file pathway unless in the GoPro_Pi directory"
   ]
  },
  {
   "cell_type": "code",
   "execution_count": null,
   "metadata": {},
   "outputs": [],
   "source": [
    "# What file are we inputting?\n",
    "\n",
    "Input_V = '003_camera_p3' # Version - example '001' or '054'\n",
    "Input_Base_Name = '' # ex. '003_camera_p3'\n",
    "Input_File_Name = Input_Base_Name + Input_V\n",
    "Input_Format = '.avi'\n",
    "Input_File_Full_Name = Input_File_Name + Input_Format"
   ]
  },
  {
   "cell_type": "code",
   "execution_count": null,
   "metadata": {},
   "outputs": [],
   "source": [
    "# What file are we outputting?\n",
    "\n",
    "Output_V = '_001' # # Version - example '001' or '054'\n",
    "Output_Base_Name = '003_camera_p3'\n",
    "Output_File_Name = Output_Base_Name + Output_V\n",
    "Output_Format = '.avi'\n",
    "Output_File_Full_Name = Output_File_Name + Output_Format # change the file name if needed\n",
    "\n",
    "# Output file parameter"
   ]
  },
  {
   "cell_type": "code",
   "execution_count": null,
   "metadata": {},
   "outputs": [],
   "source": [
    "## frame dimensions (x,y) & img dimensions (2x,2y) # for resizing drawn frames\n",
    "scaling_factorx=1\n",
    "scaling_factory=1\n",
    "scaling_factor2x=1\n",
    "scaling_factor2y=1\n",
    "\n",
    "# Manipulation Variables,\n",
    "kernelSize = 21\n",
    "GB_Kernel = 21\n",
    "\n",
    "# Edge Detection Parameter\n",
    "parameter1=20\n",
    "parameter2=60\n",
    "\n",
    "intApertureSize=1\n",
    "# Colours\n",
    "custom_color_list = []\n",
    "custom_color_list = \\\n",
    "    [\"COLOR_BGR2RGB\",\n",
    "     \"COLOR_RGB2BGR\",\n",
    "     \"COLOR_BGR2GRAY\",\n",
    "     \"COLOR_RGB2GRAY\",\n",
    "     \"COLOR_BGR2HSV\",\n",
    "     \"COLOR_RGB2HSV\",\n",
    "     \"COLOR_RGB2HLS\",\n",
    "     \"COLOR_BGR2HLS\",\n",
    "     \"COLOR_BGR2XYZ\",\n",
    "     \"COLOR_RGB2XYZ\",\n",
    "     \"COLOR_BGR2Lab\",\n",
    "     \"COLOR_RGB2Luv\"]\n",
    "\n",
    "custom_color_type = 1 # 1-12 - look at elements in custom_color_list\n",
    "\n",
    "# Thresholding \n",
    "threshold1=100\n",
    "threshold2=200\n",
    "\n",
    "# Contours\n",
    "color=(255,0,0)\n",
    "thickness=2\n",
    "count = 0"
   ]
  },
  {
   "cell_type": "code",
   "execution_count": null,
   "metadata": {},
   "outputs": [],
   "source": [
    "cap = cv2.VideoCapture(Input_File_Full_Name)  # load the video\n",
    "\n",
    "while (cap.isOpened()):  # play the video by reading frame by frame\n",
    "    ret, frame = cap.read()\n",
    "    if ret == True:\n",
    "        # equalize the histogram of color image - contrast enhancement\n",
    "        frame1 = equalizeHistColor(frame)\n",
    "\n",
    "        # Smoothing\n",
    "        gray = cv2.cvtColor(frame1, cv2.COLOR_BGR2GRAY)\n",
    "        blur = cv2.GaussianBlur(gray, (GB_Kernel, GB_Kernel), 0)\n",
    "\n",
    "        # Thresholding\n",
    "        # ret, mask = cv2.threshold(blur, threshold1, threshold2, cv2.THRESH_BINARY)\n",
    "        # ret, mask = cv2.threshold(blur, 0, 255, cv2.THRESH_BINARY + cv2.THRESH_OTSU)\n",
    "        # ret, mask = cv2.threshold(blur,threshold1, threshold2,cv2.THRESH_BINARY+cv2.THRESH_OTSU)\n",
    "        mask = cv2.adaptiveThreshold(blur,255,cv2.ADAPTIVE_THRESH_MEAN_C,cv2.THRESH_BINARY,11,2)\n",
    "        # mask = cv2.adaptiveThreshold(blur,255,cv2.ADAPTIVE_THRESH_GAUSSIAN_C,cv2.THRESH_BINARY,11,2)\n",
    "        kernel = np.ones((3, 3), np.uint8)\n",
    "        mask = cv2.erode(mask, kernel, iterations=7)  # morphology erosion\n",
    "        mask = cv2.dilate(mask, kernel, iterations=5)  # morphology dilation\n",
    "\n",
    "        mask_inv = cv2.bitwise_not(mask)\n",
    "        img = cv2.bitwise_and(frame1, frame1, mask=mask_inv)\n",
    "        img = cv2.addWeighted(frame1, 0.1, img, 0.9, 0)\n",
    "\n",
    "        #Contouring - includes a bounding box - takes from previous gray box\n",
    "        ret, thresh = cv2.threshold(gray, 75, 100, cv2.THRESH_BINARY_INV)\n",
    "                                                                            #cv2.CHAIN_APPROX_SIMPLE\n",
    "        img1, contours, hierarchy = cv2.findContours(thresh, cv2.RETR_TREE, cv2.CHAIN_APPROX_NONE)\n",
    "        if len(contours) != 0:\n",
    "            c = max(contours, key=cv2.contourArea)  # find the largest contour\n",
    "            x, y, w, h = cv2.boundingRect(c)  # get bounding box of largest contour\n",
    "            img2=cv2.drawContours(img, c, -1, color, thickness) # draw largest contour\n",
    "            # img2 = cv2.drawContours(frame, contours, -1, color, thickness)  # draw all contours\n",
    "            img3 = cv2.rectangle(img2, (x, y), (x + w, y + h), (0, 0, 255), 2)  # draw red bounding box in img\n",
    "            font = cv2.FONT_HERSHEY_SIMPLEX\n",
    "            cv2.putText(img3, \"label\", (x, h), font, 1,(255,255,255),2)\n",
    "\n",
    "        writer.write(img)  # save the frame into video file\n",
    "        count += 1\n",
    "        if count % 1 == 0:\n",
    "            # cv2.imshow('Original', frame)  # show the original frame\n",
    "            cv2.imshow('New', img) #show the new frame\n",
    "        if cv2.waitKey(1)& 0xFF == ord('q'):\n",
    "            break\n",
    "    else:\n",
    "        print(\"ref != True\")\n",
    "        break\n",
    "    # When everything done, release the capture\n",
    "writer.release()\n",
    "cap.release()\n",
    "cv2.destroyAllWindows()"
   ]
  },
  {
   "cell_type": "code",
   "execution_count": null,
   "metadata": {},
   "outputs": [],
   "source": []
  },
  {
   "cell_type": "code",
   "execution_count": null,
   "metadata": {},
   "outputs": [],
   "source": []
  }
 ],
 "metadata": {
  "kernelspec": {
   "display_name": "Python 2",
   "language": "python",
   "name": "python2"
  },
  "language_info": {
   "codemirror_mode": {
    "name": "ipython",
    "version": 2
   },
   "file_extension": ".py",
   "mimetype": "text/x-python",
   "name": "python",
   "nbconvert_exporter": "python",
   "pygments_lexer": "ipython2",
   "version": "2.7.15"
  }
 },
 "nbformat": 4,
 "nbformat_minor": 2
}
